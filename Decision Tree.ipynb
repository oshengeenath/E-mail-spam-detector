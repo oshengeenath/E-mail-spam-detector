{
 "cells": [
  {
   "cell_type": "code",
   "execution_count": 1,
   "metadata": {
    "collapsed": true
   },
   "outputs": [],
   "source": [
    "import numpy as np\n",
    "import pandas as pd"
   ]
  },
  {
   "cell_type": "code",
   "execution_count": 2,
   "outputs": [],
   "source": [
    "data = pd.read_csv(\"pcadata.csv\")"
   ],
   "metadata": {
    "collapsed": false
   }
  },
  {
   "cell_type": "code",
   "execution_count": 3,
   "outputs": [
    {
     "data": {
      "text/plain": "   Unnamed: 0  WORD_FREQ_MAKE  WORD_FREQ_ADDRESS  WORD_FREQ_ALL  WORD_FREQ_3D  \\\n0           0       -0.347922           1.161025       0.675889     -0.046644   \n1           1        0.352150           0.368433       0.404391     -0.046644   \n2           2       -0.147901          -0.248027       0.811639     -0.046644   \n3           3       -0.347922          -0.248027      -0.565245     -0.046644   \n4           4       -0.347922          -0.248027      -0.565245     -0.046644   \n\n   WORD_FREQ_OUR  WORD_FREQ_OVER  WORD_FREQ_REMOVE  WORD_FREQ_INTERNET  \\\n0      -0.007737       -0.350205         -0.295731           -0.263265   \n1      -0.269470        0.664297          0.232922           -0.092630   \n2       1.315470        0.338207          0.182574            0.029252   \n3       0.443026       -0.350205          0.484661            1.272445   \n4       0.443026       -0.350205          0.484661            1.272445   \n\n   WORD_FREQ_ORDER  ...  CHAR_FREQ_;  CHAR_FREQ_(  CHAR_FREQ_[  CHAR_FREQ_!  \\\n0        -0.325617  ...    -0.160010    -0.525294    -0.164364     0.589246   \n1        -0.325617  ...    -0.160010    -0.043936    -0.164364     0.107759   \n2         1.943000  ...    -0.120407    -0.003822    -0.164364    -0.006090   \n3         0.773244  ...    -0.160010    -0.025702    -0.164364    -0.170935   \n4         0.773244  ...    -0.160010    -0.032996    -0.164364    -0.173306   \n\n   CHAR_FREQ_$  CHAR_FREQ_#  CAPITAL_RUN_LENGTH_AVERAGE  \\\n0    -0.317325    -0.105071                   -0.049117   \n1     0.433676     0.005053                   -0.008143   \n2     0.450365    -0.082129                    0.133876   \n3    -0.317325    -0.105071                   -0.055724   \n4    -0.317325    -0.105071                   -0.055724   \n\n   CAPITAL_RUN_LENGTH_LONGEST  CAPITAL_RUN_LENGTH_TOTAL  SPAM  \n0                    0.044398                 -0.021310     1  \n1                    0.244841                  1.191142     1  \n2                    2.169089                  3.181179     1  \n3                   -0.060834                 -0.161954     1  \n4                   -0.060834                 -0.161954     1  \n\n[5 rows x 59 columns]",
      "text/html": "<div>\n<style scoped>\n    .dataframe tbody tr th:only-of-type {\n        vertical-align: middle;\n    }\n\n    .dataframe tbody tr th {\n        vertical-align: top;\n    }\n\n    .dataframe thead th {\n        text-align: right;\n    }\n</style>\n<table border=\"1\" class=\"dataframe\">\n  <thead>\n    <tr style=\"text-align: right;\">\n      <th></th>\n      <th>Unnamed: 0</th>\n      <th>WORD_FREQ_MAKE</th>\n      <th>WORD_FREQ_ADDRESS</th>\n      <th>WORD_FREQ_ALL</th>\n      <th>WORD_FREQ_3D</th>\n      <th>WORD_FREQ_OUR</th>\n      <th>WORD_FREQ_OVER</th>\n      <th>WORD_FREQ_REMOVE</th>\n      <th>WORD_FREQ_INTERNET</th>\n      <th>WORD_FREQ_ORDER</th>\n      <th>...</th>\n      <th>CHAR_FREQ_;</th>\n      <th>CHAR_FREQ_(</th>\n      <th>CHAR_FREQ_[</th>\n      <th>CHAR_FREQ_!</th>\n      <th>CHAR_FREQ_$</th>\n      <th>CHAR_FREQ_#</th>\n      <th>CAPITAL_RUN_LENGTH_AVERAGE</th>\n      <th>CAPITAL_RUN_LENGTH_LONGEST</th>\n      <th>CAPITAL_RUN_LENGTH_TOTAL</th>\n      <th>SPAM</th>\n    </tr>\n  </thead>\n  <tbody>\n    <tr>\n      <th>0</th>\n      <td>0</td>\n      <td>-0.347922</td>\n      <td>1.161025</td>\n      <td>0.675889</td>\n      <td>-0.046644</td>\n      <td>-0.007737</td>\n      <td>-0.350205</td>\n      <td>-0.295731</td>\n      <td>-0.263265</td>\n      <td>-0.325617</td>\n      <td>...</td>\n      <td>-0.160010</td>\n      <td>-0.525294</td>\n      <td>-0.164364</td>\n      <td>0.589246</td>\n      <td>-0.317325</td>\n      <td>-0.105071</td>\n      <td>-0.049117</td>\n      <td>0.044398</td>\n      <td>-0.021310</td>\n      <td>1</td>\n    </tr>\n    <tr>\n      <th>1</th>\n      <td>1</td>\n      <td>0.352150</td>\n      <td>0.368433</td>\n      <td>0.404391</td>\n      <td>-0.046644</td>\n      <td>-0.269470</td>\n      <td>0.664297</td>\n      <td>0.232922</td>\n      <td>-0.092630</td>\n      <td>-0.325617</td>\n      <td>...</td>\n      <td>-0.160010</td>\n      <td>-0.043936</td>\n      <td>-0.164364</td>\n      <td>0.107759</td>\n      <td>0.433676</td>\n      <td>0.005053</td>\n      <td>-0.008143</td>\n      <td>0.244841</td>\n      <td>1.191142</td>\n      <td>1</td>\n    </tr>\n    <tr>\n      <th>2</th>\n      <td>2</td>\n      <td>-0.147901</td>\n      <td>-0.248027</td>\n      <td>0.811639</td>\n      <td>-0.046644</td>\n      <td>1.315470</td>\n      <td>0.338207</td>\n      <td>0.182574</td>\n      <td>0.029252</td>\n      <td>1.943000</td>\n      <td>...</td>\n      <td>-0.120407</td>\n      <td>-0.003822</td>\n      <td>-0.164364</td>\n      <td>-0.006090</td>\n      <td>0.450365</td>\n      <td>-0.082129</td>\n      <td>0.133876</td>\n      <td>2.169089</td>\n      <td>3.181179</td>\n      <td>1</td>\n    </tr>\n    <tr>\n      <th>3</th>\n      <td>3</td>\n      <td>-0.347922</td>\n      <td>-0.248027</td>\n      <td>-0.565245</td>\n      <td>-0.046644</td>\n      <td>0.443026</td>\n      <td>-0.350205</td>\n      <td>0.484661</td>\n      <td>1.272445</td>\n      <td>0.773244</td>\n      <td>...</td>\n      <td>-0.160010</td>\n      <td>-0.025702</td>\n      <td>-0.164364</td>\n      <td>-0.170935</td>\n      <td>-0.317325</td>\n      <td>-0.105071</td>\n      <td>-0.055724</td>\n      <td>-0.060834</td>\n      <td>-0.161954</td>\n      <td>1</td>\n    </tr>\n    <tr>\n      <th>4</th>\n      <td>4</td>\n      <td>-0.347922</td>\n      <td>-0.248027</td>\n      <td>-0.565245</td>\n      <td>-0.046644</td>\n      <td>0.443026</td>\n      <td>-0.350205</td>\n      <td>0.484661</td>\n      <td>1.272445</td>\n      <td>0.773244</td>\n      <td>...</td>\n      <td>-0.160010</td>\n      <td>-0.032996</td>\n      <td>-0.164364</td>\n      <td>-0.173306</td>\n      <td>-0.317325</td>\n      <td>-0.105071</td>\n      <td>-0.055724</td>\n      <td>-0.060834</td>\n      <td>-0.161954</td>\n      <td>1</td>\n    </tr>\n  </tbody>\n</table>\n<p>5 rows × 59 columns</p>\n</div>"
     },
     "execution_count": 3,
     "metadata": {},
     "output_type": "execute_result"
    }
   ],
   "source": [
    "data.head()"
   ],
   "metadata": {
    "collapsed": false
   }
  },
  {
   "cell_type": "code",
   "execution_count": 4,
   "outputs": [
    {
     "data": {
      "text/plain": "(4210, 59)"
     },
     "execution_count": 4,
     "metadata": {},
     "output_type": "execute_result"
    }
   ],
   "source": [
    "data.shape"
   ],
   "metadata": {
    "collapsed": false
   }
  },
  {
   "cell_type": "code",
   "execution_count": 5,
   "outputs": [
    {
     "name": "stdout",
     "output_type": "stream",
     "text": [
      "<class 'pandas.core.frame.DataFrame'>\n",
      "RangeIndex: 4210 entries, 0 to 4209\n",
      "Data columns (total 59 columns):\n",
      " #   Column                      Non-Null Count  Dtype  \n",
      "---  ------                      --------------  -----  \n",
      " 0   Unnamed: 0                  4210 non-null   int64  \n",
      " 1   WORD_FREQ_MAKE              4210 non-null   float64\n",
      " 2   WORD_FREQ_ADDRESS           4210 non-null   float64\n",
      " 3   WORD_FREQ_ALL               4210 non-null   float64\n",
      " 4   WORD_FREQ_3D                4210 non-null   float64\n",
      " 5   WORD_FREQ_OUR               4210 non-null   float64\n",
      " 6   WORD_FREQ_OVER              4210 non-null   float64\n",
      " 7   WORD_FREQ_REMOVE            4210 non-null   float64\n",
      " 8   WORD_FREQ_INTERNET          4210 non-null   float64\n",
      " 9   WORD_FREQ_ORDER             4210 non-null   float64\n",
      " 10  WORD_FREQ_MAIL              4210 non-null   float64\n",
      " 11  WORD_FREQ_RECEIVE           4210 non-null   float64\n",
      " 12  WORD_FREQ_WILL              4210 non-null   float64\n",
      " 13  WORD_FREQ_PEOPLE            4210 non-null   float64\n",
      " 14  WORD_FREQ_REPORT            4210 non-null   float64\n",
      " 15  WORD_FREQ_ADDRESSES         4210 non-null   float64\n",
      " 16  WORD_FREQ_FREE              4210 non-null   float64\n",
      " 17  WORD_FREQ_BUSINESS          4210 non-null   float64\n",
      " 18  WORD_FREQ_EMAIL             4210 non-null   float64\n",
      " 19  WORD_FREQ_YOU               4210 non-null   float64\n",
      " 20  WORD_FREQ_CREDIT            4210 non-null   float64\n",
      " 21  WORD_FREQ_YOUR              4210 non-null   float64\n",
      " 22  WORD_FREQ_FONT              4210 non-null   float64\n",
      " 23  WORD_FREQ_000               4210 non-null   float64\n",
      " 24  WORD_FREQ_MONEY             4210 non-null   float64\n",
      " 25  WORD_FREQ_HP                4210 non-null   float64\n",
      " 26  WORD_FREQ_HPL               4210 non-null   float64\n",
      " 27  WORD_FREQ_GEORGE            4210 non-null   float64\n",
      " 28  WORD_FREQ_650               4210 non-null   float64\n",
      " 29  WORD_FREQ_LAB               4210 non-null   float64\n",
      " 30  WORD_FREQ_LABS              4210 non-null   float64\n",
      " 31  WORD_FREQ_TELNET            4210 non-null   float64\n",
      " 32  WORD_FREQ_857               4210 non-null   float64\n",
      " 33  WORD_FREQ_DATA              4210 non-null   float64\n",
      " 34  WORD_FREQ_415               4210 non-null   float64\n",
      " 35  WORD_FREQ_85                4210 non-null   float64\n",
      " 36  WORD_FREQ_TECHNOLOGY        4210 non-null   float64\n",
      " 37  WORD_FREQ_1999              4210 non-null   float64\n",
      " 38  WORD_FREQ_PARTS             4210 non-null   float64\n",
      " 39  WORD_FREQ_PM                4210 non-null   float64\n",
      " 40  WORD_FREQ_DIRECT            4210 non-null   float64\n",
      " 41  WORD_FREQ_CS                4210 non-null   float64\n",
      " 42  WORD_FREQ_MEETING           4210 non-null   float64\n",
      " 43  WORD_FREQ_ORIGINAL          4210 non-null   float64\n",
      " 44  WORD_FREQ_PROJECT           4210 non-null   float64\n",
      " 45  WORD_FREQ_RE                4210 non-null   float64\n",
      " 46  WORD_FREQ_EDU               4210 non-null   float64\n",
      " 47  WORD_FREQ_TABLE             4210 non-null   float64\n",
      " 48  WORD_FREQ_CONFERENCE        4210 non-null   float64\n",
      " 49  CHAR_FREQ_;                 4210 non-null   float64\n",
      " 50  CHAR_FREQ_(                 4210 non-null   float64\n",
      " 51  CHAR_FREQ_[                 4210 non-null   float64\n",
      " 52  CHAR_FREQ_!                 4210 non-null   float64\n",
      " 53  CHAR_FREQ_$                 4210 non-null   float64\n",
      " 54  CHAR_FREQ_#                 4210 non-null   float64\n",
      " 55  CAPITAL_RUN_LENGTH_AVERAGE  4210 non-null   float64\n",
      " 56  CAPITAL_RUN_LENGTH_LONGEST  4210 non-null   float64\n",
      " 57  CAPITAL_RUN_LENGTH_TOTAL    4210 non-null   float64\n",
      " 58  SPAM                        4210 non-null   int64  \n",
      "dtypes: float64(57), int64(2)\n",
      "memory usage: 1.9 MB\n"
     ]
    }
   ],
   "source": [
    "data.info()"
   ],
   "metadata": {
    "collapsed": false
   }
  },
  {
   "cell_type": "code",
   "execution_count": 6,
   "outputs": [],
   "source": [
    "x = data.drop(\"SPAM\",axis=1)"
   ],
   "metadata": {
    "collapsed": false
   }
  },
  {
   "cell_type": "code",
   "execution_count": 7,
   "outputs": [
    {
     "data": {
      "text/plain": "   Unnamed: 0  WORD_FREQ_MAKE  WORD_FREQ_ADDRESS  WORD_FREQ_ALL  WORD_FREQ_3D  \\\n0           0       -0.347922           1.161025       0.675889     -0.046644   \n1           1        0.352150           0.368433       0.404391     -0.046644   \n2           2       -0.147901          -0.248027       0.811639     -0.046644   \n3           3       -0.347922          -0.248027      -0.565245     -0.046644   \n4           4       -0.347922          -0.248027      -0.565245     -0.046644   \n\n   WORD_FREQ_OUR  WORD_FREQ_OVER  WORD_FREQ_REMOVE  WORD_FREQ_INTERNET  \\\n0      -0.007737       -0.350205         -0.295731           -0.263265   \n1      -0.269470        0.664297          0.232922           -0.092630   \n2       1.315470        0.338207          0.182574            0.029252   \n3       0.443026       -0.350205          0.484661            1.272445   \n4       0.443026       -0.350205          0.484661            1.272445   \n\n   WORD_FREQ_ORDER  ...  WORD_FREQ_CONFERENCE  CHAR_FREQ_;  CHAR_FREQ_(  \\\n0        -0.325617  ...             -0.116407    -0.160010    -0.525294   \n1        -0.325617  ...             -0.116407    -0.160010    -0.043936   \n2         1.943000  ...             -0.116407    -0.120407    -0.003822   \n3         0.773244  ...             -0.116407    -0.160010    -0.025702   \n4         0.773244  ...             -0.116407    -0.160010    -0.032996   \n\n   CHAR_FREQ_[  CHAR_FREQ_!  CHAR_FREQ_$  CHAR_FREQ_#  \\\n0    -0.164364     0.589246    -0.317325    -0.105071   \n1    -0.164364     0.107759     0.433676     0.005053   \n2    -0.164364    -0.006090     0.450365    -0.082129   \n3    -0.164364    -0.170935    -0.317325    -0.105071   \n4    -0.164364    -0.173306    -0.317325    -0.105071   \n\n   CAPITAL_RUN_LENGTH_AVERAGE  CAPITAL_RUN_LENGTH_LONGEST  \\\n0                   -0.049117                    0.044398   \n1                   -0.008143                    0.244841   \n2                    0.133876                    2.169089   \n3                   -0.055724                   -0.060834   \n4                   -0.055724                   -0.060834   \n\n   CAPITAL_RUN_LENGTH_TOTAL  \n0                 -0.021310  \n1                  1.191142  \n2                  3.181179  \n3                 -0.161954  \n4                 -0.161954  \n\n[5 rows x 58 columns]",
      "text/html": "<div>\n<style scoped>\n    .dataframe tbody tr th:only-of-type {\n        vertical-align: middle;\n    }\n\n    .dataframe tbody tr th {\n        vertical-align: top;\n    }\n\n    .dataframe thead th {\n        text-align: right;\n    }\n</style>\n<table border=\"1\" class=\"dataframe\">\n  <thead>\n    <tr style=\"text-align: right;\">\n      <th></th>\n      <th>Unnamed: 0</th>\n      <th>WORD_FREQ_MAKE</th>\n      <th>WORD_FREQ_ADDRESS</th>\n      <th>WORD_FREQ_ALL</th>\n      <th>WORD_FREQ_3D</th>\n      <th>WORD_FREQ_OUR</th>\n      <th>WORD_FREQ_OVER</th>\n      <th>WORD_FREQ_REMOVE</th>\n      <th>WORD_FREQ_INTERNET</th>\n      <th>WORD_FREQ_ORDER</th>\n      <th>...</th>\n      <th>WORD_FREQ_CONFERENCE</th>\n      <th>CHAR_FREQ_;</th>\n      <th>CHAR_FREQ_(</th>\n      <th>CHAR_FREQ_[</th>\n      <th>CHAR_FREQ_!</th>\n      <th>CHAR_FREQ_$</th>\n      <th>CHAR_FREQ_#</th>\n      <th>CAPITAL_RUN_LENGTH_AVERAGE</th>\n      <th>CAPITAL_RUN_LENGTH_LONGEST</th>\n      <th>CAPITAL_RUN_LENGTH_TOTAL</th>\n    </tr>\n  </thead>\n  <tbody>\n    <tr>\n      <th>0</th>\n      <td>0</td>\n      <td>-0.347922</td>\n      <td>1.161025</td>\n      <td>0.675889</td>\n      <td>-0.046644</td>\n      <td>-0.007737</td>\n      <td>-0.350205</td>\n      <td>-0.295731</td>\n      <td>-0.263265</td>\n      <td>-0.325617</td>\n      <td>...</td>\n      <td>-0.116407</td>\n      <td>-0.160010</td>\n      <td>-0.525294</td>\n      <td>-0.164364</td>\n      <td>0.589246</td>\n      <td>-0.317325</td>\n      <td>-0.105071</td>\n      <td>-0.049117</td>\n      <td>0.044398</td>\n      <td>-0.021310</td>\n    </tr>\n    <tr>\n      <th>1</th>\n      <td>1</td>\n      <td>0.352150</td>\n      <td>0.368433</td>\n      <td>0.404391</td>\n      <td>-0.046644</td>\n      <td>-0.269470</td>\n      <td>0.664297</td>\n      <td>0.232922</td>\n      <td>-0.092630</td>\n      <td>-0.325617</td>\n      <td>...</td>\n      <td>-0.116407</td>\n      <td>-0.160010</td>\n      <td>-0.043936</td>\n      <td>-0.164364</td>\n      <td>0.107759</td>\n      <td>0.433676</td>\n      <td>0.005053</td>\n      <td>-0.008143</td>\n      <td>0.244841</td>\n      <td>1.191142</td>\n    </tr>\n    <tr>\n      <th>2</th>\n      <td>2</td>\n      <td>-0.147901</td>\n      <td>-0.248027</td>\n      <td>0.811639</td>\n      <td>-0.046644</td>\n      <td>1.315470</td>\n      <td>0.338207</td>\n      <td>0.182574</td>\n      <td>0.029252</td>\n      <td>1.943000</td>\n      <td>...</td>\n      <td>-0.116407</td>\n      <td>-0.120407</td>\n      <td>-0.003822</td>\n      <td>-0.164364</td>\n      <td>-0.006090</td>\n      <td>0.450365</td>\n      <td>-0.082129</td>\n      <td>0.133876</td>\n      <td>2.169089</td>\n      <td>3.181179</td>\n    </tr>\n    <tr>\n      <th>3</th>\n      <td>3</td>\n      <td>-0.347922</td>\n      <td>-0.248027</td>\n      <td>-0.565245</td>\n      <td>-0.046644</td>\n      <td>0.443026</td>\n      <td>-0.350205</td>\n      <td>0.484661</td>\n      <td>1.272445</td>\n      <td>0.773244</td>\n      <td>...</td>\n      <td>-0.116407</td>\n      <td>-0.160010</td>\n      <td>-0.025702</td>\n      <td>-0.164364</td>\n      <td>-0.170935</td>\n      <td>-0.317325</td>\n      <td>-0.105071</td>\n      <td>-0.055724</td>\n      <td>-0.060834</td>\n      <td>-0.161954</td>\n    </tr>\n    <tr>\n      <th>4</th>\n      <td>4</td>\n      <td>-0.347922</td>\n      <td>-0.248027</td>\n      <td>-0.565245</td>\n      <td>-0.046644</td>\n      <td>0.443026</td>\n      <td>-0.350205</td>\n      <td>0.484661</td>\n      <td>1.272445</td>\n      <td>0.773244</td>\n      <td>...</td>\n      <td>-0.116407</td>\n      <td>-0.160010</td>\n      <td>-0.032996</td>\n      <td>-0.164364</td>\n      <td>-0.173306</td>\n      <td>-0.317325</td>\n      <td>-0.105071</td>\n      <td>-0.055724</td>\n      <td>-0.060834</td>\n      <td>-0.161954</td>\n    </tr>\n  </tbody>\n</table>\n<p>5 rows × 58 columns</p>\n</div>"
     },
     "execution_count": 7,
     "metadata": {},
     "output_type": "execute_result"
    }
   ],
   "source": [
    "x.head()"
   ],
   "metadata": {
    "collapsed": false
   }
  },
  {
   "cell_type": "code",
   "execution_count": 9,
   "outputs": [
    {
     "data": {
      "text/plain": "0    1\n1    1\n2    1\n3    1\n4    1\nName: SPAM, dtype: int64"
     },
     "execution_count": 9,
     "metadata": {},
     "output_type": "execute_result"
    }
   ],
   "source": [
    "y = data[\"SPAM\"]\n",
    "y.head()"
   ],
   "metadata": {
    "collapsed": false
   }
  },
  {
   "cell_type": "code",
   "execution_count": 10,
   "outputs": [],
   "source": [
    "from sklearn.model_selection import train_test_split\n",
    "x_train,x_test,y_train,y_test = train_test_split(x,y,test_size=0.2)"
   ],
   "metadata": {
    "collapsed": false
   }
  },
  {
   "cell_type": "code",
   "execution_count": 11,
   "outputs": [
    {
     "data": {
      "text/plain": "(3368, 58)"
     },
     "execution_count": 11,
     "metadata": {},
     "output_type": "execute_result"
    }
   ],
   "source": [
    "x_train.shape"
   ],
   "metadata": {
    "collapsed": false
   }
  },
  {
   "cell_type": "code",
   "execution_count": 12,
   "outputs": [
    {
     "data": {
      "text/plain": "(842, 58)"
     },
     "execution_count": 12,
     "metadata": {},
     "output_type": "execute_result"
    }
   ],
   "source": [
    "x_test.shape"
   ],
   "metadata": {
    "collapsed": false
   }
  },
  {
   "cell_type": "markdown",
   "source": [
    "Decision tree"
   ],
   "metadata": {
    "collapsed": false
   }
  },
  {
   "cell_type": "code",
   "execution_count": null,
   "outputs": [],
   "source": [],
   "metadata": {
    "collapsed": false
   }
  }
 ],
 "metadata": {
  "kernelspec": {
   "display_name": "Python 3",
   "language": "python",
   "name": "python3"
  },
  "language_info": {
   "codemirror_mode": {
    "name": "ipython",
    "version": 2
   },
   "file_extension": ".py",
   "mimetype": "text/x-python",
   "name": "python",
   "nbconvert_exporter": "python",
   "pygments_lexer": "ipython2",
   "version": "2.7.6"
  }
 },
 "nbformat": 4,
 "nbformat_minor": 0
}
