{
 "cells": [
  {
   "cell_type": "code",
   "execution_count": 476,
   "metadata": {
    "collapsed": true
   },
   "outputs": [],
   "source": [
    "# import necerssary libraries\n",
    "%matplotlib inline\n",
    "import pandas as pd\n",
    "import numpy as np\n",
    "import matplotlib.pyplot as plt"
   ]
  },
  {
   "cell_type": "code",
   "execution_count": 477,
   "outputs": [
    {
     "data": {
      "text/plain": "      WORD_FREQ_MAKE  WORD_FREQ_ADDRESS  WORD_FREQ_ALL  WORD_FREQ_3D  \\\n0               0.00               0.64           0.64           0.0   \n1               0.21               0.28           0.50           0.0   \n2               0.06               0.00           0.71           0.0   \n3               0.00               0.00           0.00           0.0   \n4               0.00               0.00           0.00           0.0   \n...              ...                ...            ...           ...   \n4205            0.31               0.00           0.62           0.0   \n4206            0.00               0.00           0.00           0.0   \n4207            0.30               0.00           0.30           0.0   \n4208            0.96               0.00           0.00           0.0   \n4209            0.00               0.00           0.65           0.0   \n\n      WORD_FREQ_OUR  WORD_FREQ_OVER  WORD_FREQ_REMOVE  WORD_FREQ_INTERNET  \\\n0              0.32            0.00              0.00                0.00   \n1              0.14            0.28              0.21                0.07   \n2              1.23            0.19              0.19                0.12   \n3              0.63            0.00              0.31                0.63   \n4              0.63            0.00              0.31                0.63   \n...             ...             ...               ...                 ...   \n4205           0.00            0.31              0.00                0.00   \n4206           0.00            0.00              0.00                0.00   \n4207           0.00            0.00              0.00                0.00   \n4208           0.32            0.00              0.00                0.00   \n4209           0.00            0.00              0.00                0.00   \n\n      WORD_FREQ_ORDER  WORD_FREQ_MAIL  ...  CHAR_FREQ_;  CHAR_FREQ_(  \\\n0                0.00            0.00  ...        0.000        0.000   \n1                0.00            0.94  ...        0.000        0.132   \n2                0.64            0.25  ...        0.010        0.143   \n3                0.31            0.63  ...        0.000        0.137   \n4                0.31            0.63  ...        0.000        0.135   \n...               ...             ...  ...          ...          ...   \n4205             0.00            0.00  ...        0.000        0.232   \n4206             0.00            0.00  ...        0.000        0.000   \n4207             0.00            0.00  ...        0.102        0.718   \n4208             0.00            0.00  ...        0.000        0.057   \n4209             0.00            0.00  ...        0.000        0.000   \n\n      CHAR_FREQ_[  CHAR_FREQ_!  CHAR_FREQ_$  CHAR_FREQ_#  \\\n0             0.0        0.778        0.000        0.000   \n1             0.0        0.372        0.180        0.048   \n2             0.0        0.276        0.184        0.010   \n3             0.0        0.137        0.000        0.000   \n4             0.0        0.135        0.000        0.000   \n...           ...          ...          ...          ...   \n4205          0.0        0.000        0.000        0.000   \n4206          0.0        0.353        0.000        0.000   \n4207          0.0        0.000        0.000        0.000   \n4208          0.0        0.000        0.000        0.000   \n4209          0.0        0.125        0.000        0.000   \n\n      CAPITAL_RUN_LENGTH_AVERAGE  CAPITAL_RUN_LENGTH_LONGEST  \\\n0                          3.756                          61   \n1                          5.114                         101   \n2                          9.821                         485   \n3                          3.537                          40   \n4                          3.537                          40   \n...                          ...                         ...   \n4205                       1.142                           3   \n4206                       1.555                           4   \n4207                       1.404                           6   \n4208                       1.147                           5   \n4209                       1.250                           5   \n\n      CAPITAL_RUN_LENGTH_TOTAL  SPAM  \n0                          278     1  \n1                         1028     1  \n2                         2259     1  \n3                          191     1  \n4                          191     1  \n...                        ...   ...  \n4205                        88     0  \n4206                        14     0  \n4207                       118     0  \n4208                        78     0  \n4209                        40     0  \n\n[4210 rows x 58 columns]",
      "text/html": "<div>\n<style scoped>\n    .dataframe tbody tr th:only-of-type {\n        vertical-align: middle;\n    }\n\n    .dataframe tbody tr th {\n        vertical-align: top;\n    }\n\n    .dataframe thead th {\n        text-align: right;\n    }\n</style>\n<table border=\"1\" class=\"dataframe\">\n  <thead>\n    <tr style=\"text-align: right;\">\n      <th></th>\n      <th>WORD_FREQ_MAKE</th>\n      <th>WORD_FREQ_ADDRESS</th>\n      <th>WORD_FREQ_ALL</th>\n      <th>WORD_FREQ_3D</th>\n      <th>WORD_FREQ_OUR</th>\n      <th>WORD_FREQ_OVER</th>\n      <th>WORD_FREQ_REMOVE</th>\n      <th>WORD_FREQ_INTERNET</th>\n      <th>WORD_FREQ_ORDER</th>\n      <th>WORD_FREQ_MAIL</th>\n      <th>...</th>\n      <th>CHAR_FREQ_;</th>\n      <th>CHAR_FREQ_(</th>\n      <th>CHAR_FREQ_[</th>\n      <th>CHAR_FREQ_!</th>\n      <th>CHAR_FREQ_$</th>\n      <th>CHAR_FREQ_#</th>\n      <th>CAPITAL_RUN_LENGTH_AVERAGE</th>\n      <th>CAPITAL_RUN_LENGTH_LONGEST</th>\n      <th>CAPITAL_RUN_LENGTH_TOTAL</th>\n      <th>SPAM</th>\n    </tr>\n  </thead>\n  <tbody>\n    <tr>\n      <th>0</th>\n      <td>0.00</td>\n      <td>0.64</td>\n      <td>0.64</td>\n      <td>0.0</td>\n      <td>0.32</td>\n      <td>0.00</td>\n      <td>0.00</td>\n      <td>0.00</td>\n      <td>0.00</td>\n      <td>0.00</td>\n      <td>...</td>\n      <td>0.000</td>\n      <td>0.000</td>\n      <td>0.0</td>\n      <td>0.778</td>\n      <td>0.000</td>\n      <td>0.000</td>\n      <td>3.756</td>\n      <td>61</td>\n      <td>278</td>\n      <td>1</td>\n    </tr>\n    <tr>\n      <th>1</th>\n      <td>0.21</td>\n      <td>0.28</td>\n      <td>0.50</td>\n      <td>0.0</td>\n      <td>0.14</td>\n      <td>0.28</td>\n      <td>0.21</td>\n      <td>0.07</td>\n      <td>0.00</td>\n      <td>0.94</td>\n      <td>...</td>\n      <td>0.000</td>\n      <td>0.132</td>\n      <td>0.0</td>\n      <td>0.372</td>\n      <td>0.180</td>\n      <td>0.048</td>\n      <td>5.114</td>\n      <td>101</td>\n      <td>1028</td>\n      <td>1</td>\n    </tr>\n    <tr>\n      <th>2</th>\n      <td>0.06</td>\n      <td>0.00</td>\n      <td>0.71</td>\n      <td>0.0</td>\n      <td>1.23</td>\n      <td>0.19</td>\n      <td>0.19</td>\n      <td>0.12</td>\n      <td>0.64</td>\n      <td>0.25</td>\n      <td>...</td>\n      <td>0.010</td>\n      <td>0.143</td>\n      <td>0.0</td>\n      <td>0.276</td>\n      <td>0.184</td>\n      <td>0.010</td>\n      <td>9.821</td>\n      <td>485</td>\n      <td>2259</td>\n      <td>1</td>\n    </tr>\n    <tr>\n      <th>3</th>\n      <td>0.00</td>\n      <td>0.00</td>\n      <td>0.00</td>\n      <td>0.0</td>\n      <td>0.63</td>\n      <td>0.00</td>\n      <td>0.31</td>\n      <td>0.63</td>\n      <td>0.31</td>\n      <td>0.63</td>\n      <td>...</td>\n      <td>0.000</td>\n      <td>0.137</td>\n      <td>0.0</td>\n      <td>0.137</td>\n      <td>0.000</td>\n      <td>0.000</td>\n      <td>3.537</td>\n      <td>40</td>\n      <td>191</td>\n      <td>1</td>\n    </tr>\n    <tr>\n      <th>4</th>\n      <td>0.00</td>\n      <td>0.00</td>\n      <td>0.00</td>\n      <td>0.0</td>\n      <td>0.63</td>\n      <td>0.00</td>\n      <td>0.31</td>\n      <td>0.63</td>\n      <td>0.31</td>\n      <td>0.63</td>\n      <td>...</td>\n      <td>0.000</td>\n      <td>0.135</td>\n      <td>0.0</td>\n      <td>0.135</td>\n      <td>0.000</td>\n      <td>0.000</td>\n      <td>3.537</td>\n      <td>40</td>\n      <td>191</td>\n      <td>1</td>\n    </tr>\n    <tr>\n      <th>...</th>\n      <td>...</td>\n      <td>...</td>\n      <td>...</td>\n      <td>...</td>\n      <td>...</td>\n      <td>...</td>\n      <td>...</td>\n      <td>...</td>\n      <td>...</td>\n      <td>...</td>\n      <td>...</td>\n      <td>...</td>\n      <td>...</td>\n      <td>...</td>\n      <td>...</td>\n      <td>...</td>\n      <td>...</td>\n      <td>...</td>\n      <td>...</td>\n      <td>...</td>\n      <td>...</td>\n    </tr>\n    <tr>\n      <th>4205</th>\n      <td>0.31</td>\n      <td>0.00</td>\n      <td>0.62</td>\n      <td>0.0</td>\n      <td>0.00</td>\n      <td>0.31</td>\n      <td>0.00</td>\n      <td>0.00</td>\n      <td>0.00</td>\n      <td>0.00</td>\n      <td>...</td>\n      <td>0.000</td>\n      <td>0.232</td>\n      <td>0.0</td>\n      <td>0.000</td>\n      <td>0.000</td>\n      <td>0.000</td>\n      <td>1.142</td>\n      <td>3</td>\n      <td>88</td>\n      <td>0</td>\n    </tr>\n    <tr>\n      <th>4206</th>\n      <td>0.00</td>\n      <td>0.00</td>\n      <td>0.00</td>\n      <td>0.0</td>\n      <td>0.00</td>\n      <td>0.00</td>\n      <td>0.00</td>\n      <td>0.00</td>\n      <td>0.00</td>\n      <td>0.00</td>\n      <td>...</td>\n      <td>0.000</td>\n      <td>0.000</td>\n      <td>0.0</td>\n      <td>0.353</td>\n      <td>0.000</td>\n      <td>0.000</td>\n      <td>1.555</td>\n      <td>4</td>\n      <td>14</td>\n      <td>0</td>\n    </tr>\n    <tr>\n      <th>4207</th>\n      <td>0.30</td>\n      <td>0.00</td>\n      <td>0.30</td>\n      <td>0.0</td>\n      <td>0.00</td>\n      <td>0.00</td>\n      <td>0.00</td>\n      <td>0.00</td>\n      <td>0.00</td>\n      <td>0.00</td>\n      <td>...</td>\n      <td>0.102</td>\n      <td>0.718</td>\n      <td>0.0</td>\n      <td>0.000</td>\n      <td>0.000</td>\n      <td>0.000</td>\n      <td>1.404</td>\n      <td>6</td>\n      <td>118</td>\n      <td>0</td>\n    </tr>\n    <tr>\n      <th>4208</th>\n      <td>0.96</td>\n      <td>0.00</td>\n      <td>0.00</td>\n      <td>0.0</td>\n      <td>0.32</td>\n      <td>0.00</td>\n      <td>0.00</td>\n      <td>0.00</td>\n      <td>0.00</td>\n      <td>0.00</td>\n      <td>...</td>\n      <td>0.000</td>\n      <td>0.057</td>\n      <td>0.0</td>\n      <td>0.000</td>\n      <td>0.000</td>\n      <td>0.000</td>\n      <td>1.147</td>\n      <td>5</td>\n      <td>78</td>\n      <td>0</td>\n    </tr>\n    <tr>\n      <th>4209</th>\n      <td>0.00</td>\n      <td>0.00</td>\n      <td>0.65</td>\n      <td>0.0</td>\n      <td>0.00</td>\n      <td>0.00</td>\n      <td>0.00</td>\n      <td>0.00</td>\n      <td>0.00</td>\n      <td>0.00</td>\n      <td>...</td>\n      <td>0.000</td>\n      <td>0.000</td>\n      <td>0.0</td>\n      <td>0.125</td>\n      <td>0.000</td>\n      <td>0.000</td>\n      <td>1.250</td>\n      <td>5</td>\n      <td>40</td>\n      <td>0</td>\n    </tr>\n  </tbody>\n</table>\n<p>4210 rows × 58 columns</p>\n</div>"
     },
     "execution_count": 477,
     "metadata": {},
     "output_type": "execute_result"
    }
   ],
   "source": [
    "dataSet = pd.read_csv('spamData.csv')\n",
    "dataSet"
   ],
   "metadata": {
    "collapsed": false
   }
  },
  {
   "cell_type": "code",
   "execution_count": 478,
   "outputs": [],
   "source": [
    "from sklearn.preprocessing import StandardScaler\n",
    "scaler=StandardScaler()\n",
    "scaled_data=scaler.fit_transform(dataSet)"
   ],
   "metadata": {
    "collapsed": false
   }
  },
  {
   "cell_type": "code",
   "execution_count": 479,
   "outputs": [],
   "source": [
    "df=pd.DataFrame(data=scaled_data, columns= dataSet.columns)"
   ],
   "metadata": {
    "collapsed": false
   }
  },
  {
   "cell_type": "code",
   "execution_count": 480,
   "outputs": [
    {
     "data": {
      "text/plain": "       WORD_FREQ_MAKE  WORD_FREQ_ADDRESS  WORD_FREQ_ALL  WORD_FREQ_3D  \\\ncount    4.210000e+03       4.210000e+03   4.210000e+03   4210.000000   \nmean     4.725700e-17       1.350200e-17   2.700400e-17      0.000000   \nstd      1.000119e+00       1.000119e+00   1.000119e+00      1.000119   \nmin     -3.479216e-01      -2.480275e-01  -5.652450e-01     -0.046644   \n25%     -3.479216e-01      -2.480275e-01  -5.652450e-01     -0.046644   \n50%     -3.479216e-01      -2.480275e-01  -5.652450e-01     -0.046644   \n75%     -3.479216e-01      -2.480275e-01   2.880349e-01     -0.046644   \nmax      1.478696e+01       3.119145e+01   9.325045e+00     31.609920   \n\n       WORD_FREQ_OUR  WORD_FREQ_OVER  WORD_FREQ_REMOVE  WORD_FREQ_INTERNET  \\\ncount   4.210000e+03    4.210000e+03       4210.000000        4.210000e+03   \nmean    4.050600e-17   -1.350200e-17          0.000000       -1.350200e-17   \nstd     1.000119e+00    1.000119e+00          1.000119        1.000119e+00   \nmin    -4.730399e-01   -3.502046e-01         -0.295731       -2.632646e-01   \n25%    -4.730399e-01   -3.502046e-01         -0.295731       -2.632646e-01   \n50%    -4.730399e-01   -3.502046e-01         -0.295731       -2.632646e-01   \n75%     1.231299e-01   -3.502046e-01         -0.295731       -2.632646e-01   \nmax     1.406769e+01    2.095434e+01         18.005710        2.681886e+01   \n\n       WORD_FREQ_ORDER  WORD_FREQ_MAIL  ...  CHAR_FREQ_;   CHAR_FREQ_(  \\\ncount      4210.000000    4.210000e+03  ...  4210.000000  4.210000e+03   \nmean          0.000000   -8.776300e-17  ...     0.000000 -6.751000e-18   \nstd           1.000119    1.000119e+00  ...     1.000119  1.000119e+00   \nmin          -0.325617   -3.783664e-01  ...    -0.160010 -5.252942e-01   \n25%          -0.325617   -3.783664e-01  ...    -0.160010 -5.252942e-01   \n50%          -0.325617   -3.783664e-01  ...    -0.160010 -2.590883e-01   \n75%          -0.325617   -8.897950e-02  ...    -0.160010  1.821569e-01   \nmax          18.319574    2.731139e+01  ...    17.206130  3.503689e+01   \n\n        CHAR_FREQ_[   CHAR_FREQ_!   CHAR_FREQ_$   CHAR_FREQ_#  \\\ncount  4.210000e+03  4.210000e+03  4.210000e+03  4.210000e+03   \nmean   1.350200e-17 -2.700400e-17 -2.700400e-17  2.700400e-17   \nstd    1.000119e+00  1.000119e+00  1.000119e+00  1.000119e+00   \nmin   -1.643641e-01 -3.334068e-01 -3.173253e-01 -1.050711e-01   \n25%   -1.643641e-01 -3.334068e-01 -3.173253e-01 -1.050711e-01   \n50%   -1.643641e-01 -3.144319e-01 -3.173253e-01 -1.050711e-01   \n75%   -1.643641e-01  5.913558e-02 -9.619715e-02 -1.050711e-01   \nmax    3.843832e+01  3.818318e+01  2.472857e+01  4.538756e+01   \n\n       CAPITAL_RUN_LENGTH_AVERAGE  CAPITAL_RUN_LENGTH_LONGEST  \\\ncount                4.210000e+03                4.210000e+03   \nmean                -1.350200e-17               -1.350200e-17   \nstd                  1.000119e+00                1.000119e+00   \nmin                 -1.322705e-01               -2.562653e-01   \n25%                 -1.133376e-01               -2.261989e-01   \n50%                 -9.313751e-02               -1.861104e-01   \n75%                 -5.060267e-02               -4.078958e-02   \nmax                  3.310208e+01                4.979423e+01   \n\n       CAPITAL_RUN_LENGTH_TOTAL         SPAM  \ncount              4.210000e+03  4210.000000  \nmean              -2.700400e-17     0.000000  \nstd                1.000119e+00     1.000119  \nmin               -4.691088e-01    -0.814478  \n25%               -4.060613e-01    -0.814478  \n50%               -3.066403e-01    -0.814478  \n75%               -2.818053e-02     1.227780  \nmax                2.513787e+01     1.227780  \n\n[8 rows x 58 columns]",
      "text/html": "<div>\n<style scoped>\n    .dataframe tbody tr th:only-of-type {\n        vertical-align: middle;\n    }\n\n    .dataframe tbody tr th {\n        vertical-align: top;\n    }\n\n    .dataframe thead th {\n        text-align: right;\n    }\n</style>\n<table border=\"1\" class=\"dataframe\">\n  <thead>\n    <tr style=\"text-align: right;\">\n      <th></th>\n      <th>WORD_FREQ_MAKE</th>\n      <th>WORD_FREQ_ADDRESS</th>\n      <th>WORD_FREQ_ALL</th>\n      <th>WORD_FREQ_3D</th>\n      <th>WORD_FREQ_OUR</th>\n      <th>WORD_FREQ_OVER</th>\n      <th>WORD_FREQ_REMOVE</th>\n      <th>WORD_FREQ_INTERNET</th>\n      <th>WORD_FREQ_ORDER</th>\n      <th>WORD_FREQ_MAIL</th>\n      <th>...</th>\n      <th>CHAR_FREQ_;</th>\n      <th>CHAR_FREQ_(</th>\n      <th>CHAR_FREQ_[</th>\n      <th>CHAR_FREQ_!</th>\n      <th>CHAR_FREQ_$</th>\n      <th>CHAR_FREQ_#</th>\n      <th>CAPITAL_RUN_LENGTH_AVERAGE</th>\n      <th>CAPITAL_RUN_LENGTH_LONGEST</th>\n      <th>CAPITAL_RUN_LENGTH_TOTAL</th>\n      <th>SPAM</th>\n    </tr>\n  </thead>\n  <tbody>\n    <tr>\n      <th>count</th>\n      <td>4.210000e+03</td>\n      <td>4.210000e+03</td>\n      <td>4.210000e+03</td>\n      <td>4210.000000</td>\n      <td>4.210000e+03</td>\n      <td>4.210000e+03</td>\n      <td>4210.000000</td>\n      <td>4.210000e+03</td>\n      <td>4210.000000</td>\n      <td>4.210000e+03</td>\n      <td>...</td>\n      <td>4210.000000</td>\n      <td>4.210000e+03</td>\n      <td>4.210000e+03</td>\n      <td>4.210000e+03</td>\n      <td>4.210000e+03</td>\n      <td>4.210000e+03</td>\n      <td>4.210000e+03</td>\n      <td>4.210000e+03</td>\n      <td>4.210000e+03</td>\n      <td>4210.000000</td>\n    </tr>\n    <tr>\n      <th>mean</th>\n      <td>4.725700e-17</td>\n      <td>1.350200e-17</td>\n      <td>2.700400e-17</td>\n      <td>0.000000</td>\n      <td>4.050600e-17</td>\n      <td>-1.350200e-17</td>\n      <td>0.000000</td>\n      <td>-1.350200e-17</td>\n      <td>0.000000</td>\n      <td>-8.776300e-17</td>\n      <td>...</td>\n      <td>0.000000</td>\n      <td>-6.751000e-18</td>\n      <td>1.350200e-17</td>\n      <td>-2.700400e-17</td>\n      <td>-2.700400e-17</td>\n      <td>2.700400e-17</td>\n      <td>-1.350200e-17</td>\n      <td>-1.350200e-17</td>\n      <td>-2.700400e-17</td>\n      <td>0.000000</td>\n    </tr>\n    <tr>\n      <th>std</th>\n      <td>1.000119e+00</td>\n      <td>1.000119e+00</td>\n      <td>1.000119e+00</td>\n      <td>1.000119</td>\n      <td>1.000119e+00</td>\n      <td>1.000119e+00</td>\n      <td>1.000119</td>\n      <td>1.000119e+00</td>\n      <td>1.000119</td>\n      <td>1.000119e+00</td>\n      <td>...</td>\n      <td>1.000119</td>\n      <td>1.000119e+00</td>\n      <td>1.000119e+00</td>\n      <td>1.000119e+00</td>\n      <td>1.000119e+00</td>\n      <td>1.000119e+00</td>\n      <td>1.000119e+00</td>\n      <td>1.000119e+00</td>\n      <td>1.000119e+00</td>\n      <td>1.000119</td>\n    </tr>\n    <tr>\n      <th>min</th>\n      <td>-3.479216e-01</td>\n      <td>-2.480275e-01</td>\n      <td>-5.652450e-01</td>\n      <td>-0.046644</td>\n      <td>-4.730399e-01</td>\n      <td>-3.502046e-01</td>\n      <td>-0.295731</td>\n      <td>-2.632646e-01</td>\n      <td>-0.325617</td>\n      <td>-3.783664e-01</td>\n      <td>...</td>\n      <td>-0.160010</td>\n      <td>-5.252942e-01</td>\n      <td>-1.643641e-01</td>\n      <td>-3.334068e-01</td>\n      <td>-3.173253e-01</td>\n      <td>-1.050711e-01</td>\n      <td>-1.322705e-01</td>\n      <td>-2.562653e-01</td>\n      <td>-4.691088e-01</td>\n      <td>-0.814478</td>\n    </tr>\n    <tr>\n      <th>25%</th>\n      <td>-3.479216e-01</td>\n      <td>-2.480275e-01</td>\n      <td>-5.652450e-01</td>\n      <td>-0.046644</td>\n      <td>-4.730399e-01</td>\n      <td>-3.502046e-01</td>\n      <td>-0.295731</td>\n      <td>-2.632646e-01</td>\n      <td>-0.325617</td>\n      <td>-3.783664e-01</td>\n      <td>...</td>\n      <td>-0.160010</td>\n      <td>-5.252942e-01</td>\n      <td>-1.643641e-01</td>\n      <td>-3.334068e-01</td>\n      <td>-3.173253e-01</td>\n      <td>-1.050711e-01</td>\n      <td>-1.133376e-01</td>\n      <td>-2.261989e-01</td>\n      <td>-4.060613e-01</td>\n      <td>-0.814478</td>\n    </tr>\n    <tr>\n      <th>50%</th>\n      <td>-3.479216e-01</td>\n      <td>-2.480275e-01</td>\n      <td>-5.652450e-01</td>\n      <td>-0.046644</td>\n      <td>-4.730399e-01</td>\n      <td>-3.502046e-01</td>\n      <td>-0.295731</td>\n      <td>-2.632646e-01</td>\n      <td>-0.325617</td>\n      <td>-3.783664e-01</td>\n      <td>...</td>\n      <td>-0.160010</td>\n      <td>-2.590883e-01</td>\n      <td>-1.643641e-01</td>\n      <td>-3.144319e-01</td>\n      <td>-3.173253e-01</td>\n      <td>-1.050711e-01</td>\n      <td>-9.313751e-02</td>\n      <td>-1.861104e-01</td>\n      <td>-3.066403e-01</td>\n      <td>-0.814478</td>\n    </tr>\n    <tr>\n      <th>75%</th>\n      <td>-3.479216e-01</td>\n      <td>-2.480275e-01</td>\n      <td>2.880349e-01</td>\n      <td>-0.046644</td>\n      <td>1.231299e-01</td>\n      <td>-3.502046e-01</td>\n      <td>-0.295731</td>\n      <td>-2.632646e-01</td>\n      <td>-0.325617</td>\n      <td>-8.897950e-02</td>\n      <td>...</td>\n      <td>-0.160010</td>\n      <td>1.821569e-01</td>\n      <td>-1.643641e-01</td>\n      <td>5.913558e-02</td>\n      <td>-9.619715e-02</td>\n      <td>-1.050711e-01</td>\n      <td>-5.060267e-02</td>\n      <td>-4.078958e-02</td>\n      <td>-2.818053e-02</td>\n      <td>1.227780</td>\n    </tr>\n    <tr>\n      <th>max</th>\n      <td>1.478696e+01</td>\n      <td>3.119145e+01</td>\n      <td>9.325045e+00</td>\n      <td>31.609920</td>\n      <td>1.406769e+01</td>\n      <td>2.095434e+01</td>\n      <td>18.005710</td>\n      <td>2.681886e+01</td>\n      <td>18.319574</td>\n      <td>2.731139e+01</td>\n      <td>...</td>\n      <td>17.206130</td>\n      <td>3.503689e+01</td>\n      <td>3.843832e+01</td>\n      <td>3.818318e+01</td>\n      <td>2.472857e+01</td>\n      <td>4.538756e+01</td>\n      <td>3.310208e+01</td>\n      <td>4.979423e+01</td>\n      <td>2.513787e+01</td>\n      <td>1.227780</td>\n    </tr>\n  </tbody>\n</table>\n<p>8 rows × 58 columns</p>\n</div>"
     },
     "execution_count": 480,
     "metadata": {},
     "output_type": "execute_result"
    }
   ],
   "source": [
    "df.describe()"
   ],
   "metadata": {
    "collapsed": false
   }
  },
  {
   "cell_type": "code",
   "execution_count": 481,
   "outputs": [
    {
     "data": {
      "text/plain": "<Figure size 640x480 with 1 Axes>",
      "image/png": "[encoded data removed]"
     },
     "metadata": {},
     "output_type": "display_data"
    }
   ],
   "source": [
    "from sklearn.decomposition import PCA\n",
    "pca = PCA()\n",
    "principalComponents = pca.fit_transform(df)\n",
    "plt.figure()\n",
    "plt.plot(np.cumsum(pca.explained_variance_ratio_))\n",
    "plt.xlabel('Number of Components')\n",
    "plt.ylabel('Variance (%)') #for each component\n",
    "plt.title('Explained Variance')\n",
    "plt.show()"
   ],
   "metadata": {
    "collapsed": false
   }
  },
  {
   "cell_type": "code",
   "execution_count": 482,
   "outputs": [
    {
     "data": {
      "text/plain": "<Figure size 640x480 with 1 Axes>",
      "image/png": "[encoded data removed]"
     },
     "metadata": {},
     "output_type": "display_data"
    }
   ],
   "source": [
    "np.random.seed(1)\n",
    "X = np.dot(np.random.random(size=(2, 2)), np.random.normal(size=(2, 200))).T\n",
    "plt.plot(X[:, 0], X[:, 1], 'o')\n",
    "plt.axis('equal');"
   ],
   "metadata": {
    "collapsed": false
   }
  },
  {
   "cell_type": "markdown",
   "source": [
    "PCA for Speedup modules"
   ],
   "metadata": {
    "collapsed": false
   }
  },
  {
   "cell_type": "code",
   "execution_count": 483,
   "outputs": [],
   "source": [
    "import numpy as np"
   ],
   "metadata": {
    "collapsed": false
   }
  },
  {
   "cell_type": "code",
   "execution_count": 484,
   "outputs": [
    {
     "data": {
      "text/plain": "(4210, 58)"
     },
     "execution_count": 484,
     "metadata": {},
     "output_type": "execute_result"
    }
   ],
   "source": [
    "dataSet.shape"
   ],
   "metadata": {
    "collapsed": false
   }
  },
  {
   "cell_type": "code",
   "execution_count": 485,
   "outputs": [],
   "source": [
    "from sklearn.preprocessing import StandardScaler\n",
    "sc=StandardScaler()\n",
    "new_data = sc.fit_transform(df)"
   ],
   "metadata": {
    "collapsed": false
   }
  },
  {
   "cell_type": "code",
   "execution_count": 486,
   "outputs": [],
   "source": [
    "from sklearn.decomposition import PCA\n",
    "pca = PCA(n_components=44)\n",
    "new_data_pca = pca.fit_transform(df)"
   ],
   "metadata": {
    "collapsed": false
   }
  },
  {
   "cell_type": "code",
   "execution_count": 487,
   "outputs": [],
   "source": [
    "from sklearn.model_selection import train_test_split\n",
    "x = df.drop('SPAM', axis = 1)\n",
    "bins = [-np.inf, 0.5, np.inf]  # define the bins\n",
    "labels = [0, 1]  # define the labels for the bins\n",
    "df['SPAM'] = pd.cut(df['SPAM'], bins=bins, labels=labels)  # perform binning\n",
    "y = df['SPAM']  # assign the target variable after binning\n",
    "x_train, x_test, y_train, y_test = train_test_split(x, y, test_size = 0.2, random_state = 42)"
   ],
   "metadata": {
    "collapsed": false
   }
  },
  {
   "cell_type": "code",
   "execution_count": 488,
   "outputs": [
    {
     "data": {
      "text/plain": "((3368, 57), (842, 57))"
     },
     "execution_count": 488,
     "metadata": {},
     "output_type": "execute_result"
    }
   ],
   "source": [
    "x_train.shape,x_test.shape"
   ],
   "metadata": {
    "collapsed": false
   }
  },
  {
   "cell_type": "code",
   "execution_count": 489,
   "outputs": [
    {
     "data": {
      "text/plain": "((3368,), (842,))"
     },
     "execution_count": 489,
     "metadata": {},
     "output_type": "execute_result"
    }
   ],
   "source": [
    "y_train.shape,y_test.shape"
   ],
   "metadata": {
    "collapsed": false
   }
  },
  {
   "cell_type": "code",
   "execution_count": 490,
   "outputs": [
    {
     "data": {
      "text/plain": "0.9144893111638955"
     },
     "execution_count": 490,
     "metadata": {},
     "output_type": "execute_result"
    }
   ],
   "source": [
    "from sklearn.linear_model import LogisticRegression\n",
    "model = LogisticRegression(solver='lbfgs',max_iter=1000)\n",
    "model.fit(x_train, y_train)\n",
    "model.score(x_test, y_test)"
   ],
   "metadata": {
    "collapsed": false
   }
  },
  {
   "cell_type": "code",
   "execution_count": 491,
   "outputs": [],
   "source": [
    "from sklearn.model_selection import train_test_split\n",
    "x_pca = new_data_pca  # use the principal components as the feature matrix\n",
    "y_pca = y  # use the same target variable as before\n",
    "x_train_pca, x_test_pca, y_train_pca, y_test_pca = train_test_split(x_pca, y_pca, test_size=0.2, random_state=42)"
   ],
   "metadata": {
    "collapsed": false
   }
  },
  {
   "cell_type": "code",
   "execution_count": 492,
   "outputs": [
    {
     "data": {
      "text/plain": "(3368, 44)"
     },
     "execution_count": 492,
     "metadata": {},
     "output_type": "execute_result"
    }
   ],
   "source": [
    "x_train_pca.shape"
   ],
   "metadata": {
    "collapsed": false
   }
  },
  {
   "cell_type": "code",
   "execution_count": 493,
   "outputs": [
    {
     "data": {
      "text/plain": "(842, 44)"
     },
     "execution_count": 493,
     "metadata": {},
     "output_type": "execute_result"
    }
   ],
   "source": [
    "x_test_pca.shape"
   ],
   "metadata": {
    "collapsed": false
   }
  },
  {
   "cell_type": "code",
   "execution_count": 494,
   "outputs": [
    {
     "name": "stdout",
     "output_type": "stream",
     "text": [
      "Time: 15.632152557373047 ms\n"
     ]
    }
   ],
   "source": [
    "from sklearn.linear_model import LogisticRegression\n",
    "model = LogisticRegression(solver='lbfgs', max_iter=1000)\n",
    "import time\n",
    "\n",
    "start = time.time()\n",
    "\n",
    "model.fit(x_train_pca, y_train_pca)\n",
    "\n",
    "end = time.time()\n",
    "\n",
    "print('Time: ' + str((end - start)*1000) + ' ms')"
   ],
   "metadata": {
    "collapsed": false
   }
  },
  {
   "cell_type": "code",
   "execution_count": 495,
   "outputs": [
    {
     "data": {
      "text/plain": "0.994061757719715"
     },
     "execution_count": 495,
     "metadata": {},
     "output_type": "execute_result"
    }
   ],
   "source": [
    "from sklearn.metrics import accuracy_score\n",
    "y_pred_pca = model.predict(x_test_pca)\n",
    "accuracy_score(y_test_pca, y_pred_pca)"
   ],
   "metadata": {
    "collapsed": false
   }
  },
  {
   "cell_type": "code",
   "execution_count": 496,
   "outputs": [],
   "source": [
    "def model_acc(model):\n",
    "    model.fit(x_train_pca, y_train)\n",
    "    acc = model.score(x_test_pca, y_test)\n",
    "    print(str(model)+ ' --> ' +str(acc))"
   ],
   "metadata": {
    "collapsed": false
   }
  },
  {
   "cell_type": "code",
   "execution_count": 497,
   "outputs": [
    {
     "name": "stdout",
     "output_type": "stream",
     "text": [
      "Lasso() --> -0.0048501415826112115\n",
      "DecisionTreeRegressor() --> 0.7863400174166796\n",
      "RandomForestRegressor() --> 0.9002387549957611\n",
      "KNeighborsClassifier() --> 0.9477434679334917\n"
     ]
    }
   ],
   "source": [
    "from sklearn.linear_model import Lasso\n",
    "lasso = Lasso()\n",
    "model_acc(lasso)\n",
    "\n",
    "from sklearn.tree import DecisionTreeRegressor\n",
    "dt = DecisionTreeRegressor()\n",
    "model_acc(dt)\n",
    "\n",
    "from sklearn.ensemble import RandomForestRegressor\n",
    "rf = RandomForestRegressor()\n",
    "model_acc(rf)\n",
    "\n",
    "from sklearn.neighbors import KNeighborsClassifier\n",
    "rf =KNeighborsClassifier()\n",
    "model_acc(rf)"
   ],
   "metadata": {
    "collapsed": false
   }
  },
  {
   "cell_type": "code",
   "execution_count": 497,
   "outputs": [],
   "source": [],
   "metadata": {
    "collapsed": false
   }
  }
 ],
 "metadata": {
  "kernelspec": {
   "display_name": "Python 3",
   "language": "python",
   "name": "python3"
  },
  "language_info": {
   "codemirror_mode": {
    "name": "ipython",
    "version": 2
   },
   "file_extension": ".py",
   "mimetype": "text/x-python",
   "name": "python",
   "nbconvert_exporter": "python",
   "pygments_lexer": "ipython2",
   "version": "2.7.6"
  }
 },
 "nbformat": 4,
 "nbformat_minor": 0
}
